{
  "nbformat": 4,
  "nbformat_minor": 0,
  "metadata": {
    "colab": {
      "provenance": []
    },
    "kernelspec": {
      "name": "python3",
      "display_name": "Python 3"
    },
    "language_info": {
      "name": "python"
    }
  },
  "cells": [
    {
      "cell_type": "code",
      "execution_count": 3,
      "metadata": {
        "colab": {
          "base_uri": "https://localhost:8080/"
        },
        "id": "CtlPU0kmX5qe",
        "outputId": "797af9b0-f13b-4d86-89b5-53904b9696f9"
      },
      "outputs": [
        {
          "output_type": "stream",
          "name": "stdout",
          "text": [
            "Welcome to ROY'S Python simple calculator\n",
            "Select operation:\n",
            "1. Addition\n",
            "2. Subtraction\n",
            "3. Multiplication\n",
            "4. Division\n",
            "Enter the operation(1/2/3/4):4\n",
            "Enter the first number:98\n",
            "Enter the second number:90\n",
            "98.0/90.0 = 1.0888888888888888\n"
          ]
        }
      ],
      "source": [
        "def add(x,y):\n",
        "  return x+y\n",
        "def subtract(x,y):\n",
        "  return x-y\n",
        "def multiply(x,y):\n",
        "  return x*y\n",
        "def divide(x,y):\n",
        "  if y == 0:\n",
        "    return \"ERROR !!!!! DIVISION BY ZERO\"\n",
        "  else:\n",
        "    return x/y\n",
        "\n",
        "def calculator():\n",
        "  print(\"Welcome to ROY'S Python simple calculator\")\n",
        "  print(\"Select operation:\")\n",
        "  print(\"1. Addition\")\n",
        "  print(\"2. Subtraction\")\n",
        "  print(\"3. Multiplication\")\n",
        "  print(\"4. Division\")\n",
        "\n",
        "  operation = input(\"Enter the operation(1/2/3/4):\")\n",
        "\n",
        "  num1 = float(input(\"Enter the first number:\"))\n",
        "  num2 = float(input(\"Enter the second number:\"))\n",
        "\n",
        "  if operation == '1':\n",
        "        print(f\"{num1} + {num2} = {add(num1, num2)}\")\n",
        "  elif operation == '2':\n",
        "        print(f\"{num1}-{num2} = {subtract(num1, num2)}\")\n",
        "  elif operation == '3':\n",
        "        print(f\"{num1}*{num2} = {multiply(num1, num2)}\")\n",
        "  elif operation =='4':\n",
        "        print(f\"{num1}/{num2} = {divide(num1, num2)}\")\n",
        "  else:\n",
        "    print(\"Invalid input !!!!!! Please select a valid operation\")\n",
        "\n",
        "# Start the calculator\n",
        "if __name__ == \"__main__\":\n",
        "    calculator()"
      ]
    }
  ]
}